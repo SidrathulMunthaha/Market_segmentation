{
 "cells": [
  {
   "cell_type": "code",
   "execution_count": 7,
   "id": "374d8c7f",
   "metadata": {},
   "outputs": [],
   "source": [
    "import pandas as pd\n",
    "import numpy as np\n",
    "import seaborn as sns\n",
    "import matplotlib.pyplot as plt\n",
    "from sklearn import preprocessing\n",
    "from bioinfokit.visuz import cluster\n",
    "from sklearn.cluster import KMeans\n",
    "from sklearn.utils import resample\n",
    "from sklearn.metrics import adjusted_rand_score\n",
    "from sklearn.preprocessing import StandardScaler\n",
    "from sklearn.decomposition import PCA"
   ]
  },
  {
   "cell_type": "markdown",
   "id": "f9b939ad",
   "metadata": {},
   "source": [
    "## EDA on EV data set"
   ]
  },
  {
   "cell_type": "code",
   "execution_count": 8,
   "id": "19005e57",
   "metadata": {},
   "outputs": [],
   "source": [
    "data=pd.read_csv(\"C:/Users/HP/Desktop/feynn/EV_India.csv\")"
   ]
  },
  {
   "cell_type": "code",
   "execution_count": 9,
   "id": "0ae273fb",
   "metadata": {
    "scrolled": true
   },
   "outputs": [
    {
     "data": {
      "text/html": [
       "<div>\n",
       "<style scoped>\n",
       "    .dataframe tbody tr th:only-of-type {\n",
       "        vertical-align: middle;\n",
       "    }\n",
       "\n",
       "    .dataframe tbody tr th {\n",
       "        vertical-align: top;\n",
       "    }\n",
       "\n",
       "    .dataframe thead th {\n",
       "        text-align: right;\n",
       "    }\n",
       "</style>\n",
       "<table border=\"1\" class=\"dataframe\">\n",
       "  <thead>\n",
       "    <tr style=\"text-align: right;\">\n",
       "      <th></th>\n",
       "      <th>Sr. No.</th>\n",
       "      <th>State Name</th>\n",
       "      <th>Total Electric Vehicle</th>\n",
       "      <th>Total Non-Electric Vehicle</th>\n",
       "      <th>Total</th>\n",
       "    </tr>\n",
       "  </thead>\n",
       "  <tbody>\n",
       "    <tr>\n",
       "      <th>0</th>\n",
       "      <td>1</td>\n",
       "      <td>Andaman &amp; Nicobar Island</td>\n",
       "      <td>162</td>\n",
       "      <td>1,46,945</td>\n",
       "      <td>1,47,107</td>\n",
       "    </tr>\n",
       "    <tr>\n",
       "      <th>1</th>\n",
       "      <td>2</td>\n",
       "      <td>Andra Pradesh</td>\n",
       "      <td>NaN</td>\n",
       "      <td>NaN</td>\n",
       "      <td>NaN</td>\n",
       "    </tr>\n",
       "    <tr>\n",
       "      <th>2</th>\n",
       "      <td>3</td>\n",
       "      <td>Arunachal Pradesh</td>\n",
       "      <td>20</td>\n",
       "      <td>2,52,965</td>\n",
       "      <td>2,52,985</td>\n",
       "    </tr>\n",
       "    <tr>\n",
       "      <th>3</th>\n",
       "      <td>4</td>\n",
       "      <td>Assam</td>\n",
       "      <td>64766</td>\n",
       "      <td>46,77,053</td>\n",
       "      <td>47,41,819</td>\n",
       "    </tr>\n",
       "    <tr>\n",
       "      <th>4</th>\n",
       "      <td>5</td>\n",
       "      <td>Bihar</td>\n",
       "      <td>83335</td>\n",
       "      <td>1,04,07,078</td>\n",
       "      <td>1,04,90,413</td>\n",
       "    </tr>\n",
       "    <tr>\n",
       "      <th>5</th>\n",
       "      <td>6</td>\n",
       "      <td>Chandigarh</td>\n",
       "      <td>2812</td>\n",
       "      <td>7,46,881</td>\n",
       "      <td>7,49,693</td>\n",
       "    </tr>\n",
       "    <tr>\n",
       "      <th>6</th>\n",
       "      <td>7</td>\n",
       "      <td>Chhattisgarh</td>\n",
       "      <td>20966</td>\n",
       "      <td>68,36,200</td>\n",
       "      <td>68,57,166</td>\n",
       "    </tr>\n",
       "    <tr>\n",
       "      <th>7</th>\n",
       "      <td>8</td>\n",
       "      <td>Delhi</td>\n",
       "      <td>1,56,393</td>\n",
       "      <td>76,85,600</td>\n",
       "      <td>78,41,993</td>\n",
       "    </tr>\n",
       "    <tr>\n",
       "      <th>8</th>\n",
       "      <td>9</td>\n",
       "      <td>Goa</td>\n",
       "      <td>3870</td>\n",
       "      <td>10,71,570</td>\n",
       "      <td>10,75,440</td>\n",
       "    </tr>\n",
       "    <tr>\n",
       "      <th>9</th>\n",
       "      <td>10</td>\n",
       "      <td>Gujarat</td>\n",
       "      <td>45272</td>\n",
       "      <td>2,06,05,484</td>\n",
       "      <td>2,06,50,756</td>\n",
       "    </tr>\n",
       "    <tr>\n",
       "      <th>10</th>\n",
       "      <td>11</td>\n",
       "      <td>Haryana</td>\n",
       "      <td>37035</td>\n",
       "      <td>1,07,78,270</td>\n",
       "      <td>1,08,15,305</td>\n",
       "    </tr>\n",
       "    <tr>\n",
       "      <th>11</th>\n",
       "      <td>12</td>\n",
       "      <td>Himachal Pradesh</td>\n",
       "      <td>1175</td>\n",
       "      <td>19,64,754</td>\n",
       "      <td>19,65,929</td>\n",
       "    </tr>\n",
       "    <tr>\n",
       "      <th>12</th>\n",
       "      <td>13</td>\n",
       "      <td>Jammu and Kashmir</td>\n",
       "      <td>2941</td>\n",
       "      <td>18,69,962</td>\n",
       "      <td>18,72,903</td>\n",
       "    </tr>\n",
       "    <tr>\n",
       "      <th>13</th>\n",
       "      <td>14</td>\n",
       "      <td>Jharkhand</td>\n",
       "      <td>16811</td>\n",
       "      <td>64,86,937</td>\n",
       "      <td>65,03,748</td>\n",
       "    </tr>\n",
       "    <tr>\n",
       "      <th>14</th>\n",
       "      <td>15</td>\n",
       "      <td>Karnataka</td>\n",
       "      <td>1,20,532</td>\n",
       "      <td>2,68,70,303</td>\n",
       "      <td>2,69,90,835</td>\n",
       "    </tr>\n",
       "    <tr>\n",
       "      <th>15</th>\n",
       "      <td>16</td>\n",
       "      <td>Kerala</td>\n",
       "      <td>30775</td>\n",
       "      <td>1,57,74,078</td>\n",
       "      <td>1,58,04,853</td>\n",
       "    </tr>\n",
       "    <tr>\n",
       "      <th>16</th>\n",
       "      <td>17</td>\n",
       "      <td>Ladakh</td>\n",
       "      <td>26</td>\n",
       "      <td>38302</td>\n",
       "      <td>38328</td>\n",
       "    </tr>\n",
       "    <tr>\n",
       "      <th>17</th>\n",
       "      <td>18</td>\n",
       "      <td>Lakshadweep</td>\n",
       "      <td>NaN</td>\n",
       "      <td>NaN</td>\n",
       "      <td>NaN</td>\n",
       "    </tr>\n",
       "    <tr>\n",
       "      <th>18</th>\n",
       "      <td>19</td>\n",
       "      <td>Madhya Pradesh</td>\n",
       "      <td>NaN</td>\n",
       "      <td>NaN</td>\n",
       "      <td>NaN</td>\n",
       "    </tr>\n",
       "    <tr>\n",
       "      <th>19</th>\n",
       "      <td>20</td>\n",
       "      <td>Maharashtra</td>\n",
       "      <td>1,16,646</td>\n",
       "      <td>3,10,58,990</td>\n",
       "      <td>3,11,75,636</td>\n",
       "    </tr>\n",
       "    <tr>\n",
       "      <th>20</th>\n",
       "      <td>21</td>\n",
       "      <td>Manipur</td>\n",
       "      <td>586</td>\n",
       "      <td>4,99,324</td>\n",
       "      <td>4,99,910</td>\n",
       "    </tr>\n",
       "    <tr>\n",
       "      <th>21</th>\n",
       "      <td>22</td>\n",
       "      <td>Meghalaya</td>\n",
       "      <td>49</td>\n",
       "      <td>4,59,001</td>\n",
       "      <td>4,59,050</td>\n",
       "    </tr>\n",
       "    <tr>\n",
       "      <th>22</th>\n",
       "      <td>23</td>\n",
       "      <td>Mizoram</td>\n",
       "      <td>21</td>\n",
       "      <td>3,15,626</td>\n",
       "      <td>3,15,647</td>\n",
       "    </tr>\n",
       "    <tr>\n",
       "      <th>23</th>\n",
       "      <td>24</td>\n",
       "      <td>Nagaland</td>\n",
       "      <td>58</td>\n",
       "      <td>3,39,129</td>\n",
       "      <td>3,39,187</td>\n",
       "    </tr>\n",
       "    <tr>\n",
       "      <th>24</th>\n",
       "      <td>25</td>\n",
       "      <td>Odisha</td>\n",
       "      <td>23371</td>\n",
       "      <td>98,45,073</td>\n",
       "      <td>98,68,444</td>\n",
       "    </tr>\n",
       "    <tr>\n",
       "      <th>25</th>\n",
       "      <td>26</td>\n",
       "      <td>Puducherry</td>\n",
       "      <td>2149</td>\n",
       "      <td>12,13,735</td>\n",
       "      <td>12,15,884</td>\n",
       "    </tr>\n",
       "    <tr>\n",
       "      <th>26</th>\n",
       "      <td>27</td>\n",
       "      <td>Punjab</td>\n",
       "      <td>14804</td>\n",
       "      <td>1,24,63,019</td>\n",
       "      <td>1,24,77,823</td>\n",
       "    </tr>\n",
       "    <tr>\n",
       "      <th>27</th>\n",
       "      <td>28</td>\n",
       "      <td>Rajasthan</td>\n",
       "      <td>81338</td>\n",
       "      <td>1,73,27,388</td>\n",
       "      <td>1,74,08,726</td>\n",
       "    </tr>\n",
       "    <tr>\n",
       "      <th>28</th>\n",
       "      <td>29</td>\n",
       "      <td>Sikkim</td>\n",
       "      <td>21</td>\n",
       "      <td>97189</td>\n",
       "      <td>97210</td>\n",
       "    </tr>\n",
       "    <tr>\n",
       "      <th>29</th>\n",
       "      <td>30</td>\n",
       "      <td>Tamil Nadu</td>\n",
       "      <td>82051</td>\n",
       "      <td>2,98,42,376</td>\n",
       "      <td>2,99,24,427</td>\n",
       "    </tr>\n",
       "    <tr>\n",
       "      <th>30</th>\n",
       "      <td>31</td>\n",
       "      <td>Telangana</td>\n",
       "      <td>NaN</td>\n",
       "      <td>NaN</td>\n",
       "      <td>NaN</td>\n",
       "    </tr>\n",
       "    <tr>\n",
       "      <th>31</th>\n",
       "      <td>32</td>\n",
       "      <td>Tripura</td>\n",
       "      <td>9262</td>\n",
       "      <td>6,50,026</td>\n",
       "      <td>6,59,288</td>\n",
       "    </tr>\n",
       "    <tr>\n",
       "      <th>32</th>\n",
       "      <td>33</td>\n",
       "      <td>UT of DNH and DD</td>\n",
       "      <td>183</td>\n",
       "      <td>3,07,671</td>\n",
       "      <td>3,07,854</td>\n",
       "    </tr>\n",
       "    <tr>\n",
       "      <th>33</th>\n",
       "      <td>34</td>\n",
       "      <td>Uttarakhand</td>\n",
       "      <td>31008</td>\n",
       "      <td>33,12,041</td>\n",
       "      <td>33,43,049</td>\n",
       "    </tr>\n",
       "    <tr>\n",
       "      <th>34</th>\n",
       "      <td>35</td>\n",
       "      <td>Uttar Pradesh</td>\n",
       "      <td>3,37,180</td>\n",
       "      <td>4,00,92,490</td>\n",
       "      <td>4,04,29,670</td>\n",
       "    </tr>\n",
       "    <tr>\n",
       "      <th>35</th>\n",
       "      <td>36</td>\n",
       "      <td>West Bengal</td>\n",
       "      <td>48767</td>\n",
       "      <td>1,41,34,171</td>\n",
       "      <td>1,41,82,938</td>\n",
       "    </tr>\n",
       "  </tbody>\n",
       "</table>\n",
       "</div>"
      ],
      "text/plain": [
       "    Sr. No.                State Name Total Electric Vehicle  \\\n",
       "0         1  Andaman & Nicobar Island                    162   \n",
       "1         2             Andra Pradesh                    NaN   \n",
       "2         3         Arunachal Pradesh                     20   \n",
       "3         4                     Assam                  64766   \n",
       "4         5                     Bihar                  83335   \n",
       "5         6                Chandigarh                   2812   \n",
       "6         7              Chhattisgarh                  20966   \n",
       "7         8                     Delhi               1,56,393   \n",
       "8         9                       Goa                   3870   \n",
       "9        10                   Gujarat                  45272   \n",
       "10       11                   Haryana                  37035   \n",
       "11       12          Himachal Pradesh                   1175   \n",
       "12       13         Jammu and Kashmir                   2941   \n",
       "13       14                 Jharkhand                  16811   \n",
       "14       15                 Karnataka               1,20,532   \n",
       "15       16                    Kerala                  30775   \n",
       "16       17                    Ladakh                     26   \n",
       "17       18               Lakshadweep                    NaN   \n",
       "18       19            Madhya Pradesh                    NaN   \n",
       "19       20               Maharashtra               1,16,646   \n",
       "20       21                   Manipur                    586   \n",
       "21       22                 Meghalaya                     49   \n",
       "22       23                   Mizoram                     21   \n",
       "23       24                  Nagaland                     58   \n",
       "24       25                    Odisha                  23371   \n",
       "25       26                Puducherry                   2149   \n",
       "26       27                    Punjab                  14804   \n",
       "27       28                 Rajasthan                  81338   \n",
       "28       29                    Sikkim                     21   \n",
       "29       30                Tamil Nadu                  82051   \n",
       "30       31                 Telangana                    NaN   \n",
       "31       32                   Tripura                   9262   \n",
       "32       33          UT of DNH and DD                    183   \n",
       "33       34               Uttarakhand                  31008   \n",
       "34       35             Uttar Pradesh               3,37,180   \n",
       "35       36               West Bengal                  48767   \n",
       "\n",
       "   Total Non-Electric Vehicle        Total  \n",
       "0                    1,46,945     1,47,107  \n",
       "1                         NaN          NaN  \n",
       "2                    2,52,965     2,52,985  \n",
       "3                   46,77,053    47,41,819  \n",
       "4                 1,04,07,078  1,04,90,413  \n",
       "5                    7,46,881     7,49,693  \n",
       "6                   68,36,200    68,57,166  \n",
       "7                   76,85,600    78,41,993  \n",
       "8                   10,71,570    10,75,440  \n",
       "9                 2,06,05,484  2,06,50,756  \n",
       "10                1,07,78,270  1,08,15,305  \n",
       "11                  19,64,754    19,65,929  \n",
       "12                  18,69,962    18,72,903  \n",
       "13                  64,86,937    65,03,748  \n",
       "14                2,68,70,303  2,69,90,835  \n",
       "15                1,57,74,078  1,58,04,853  \n",
       "16                      38302        38328  \n",
       "17                        NaN          NaN  \n",
       "18                        NaN          NaN  \n",
       "19                3,10,58,990  3,11,75,636  \n",
       "20                   4,99,324     4,99,910  \n",
       "21                   4,59,001     4,59,050  \n",
       "22                   3,15,626     3,15,647  \n",
       "23                   3,39,129     3,39,187  \n",
       "24                  98,45,073    98,68,444  \n",
       "25                  12,13,735    12,15,884  \n",
       "26                1,24,63,019  1,24,77,823  \n",
       "27                1,73,27,388  1,74,08,726  \n",
       "28                      97189        97210  \n",
       "29                2,98,42,376  2,99,24,427  \n",
       "30                        NaN          NaN  \n",
       "31                   6,50,026     6,59,288  \n",
       "32                   3,07,671     3,07,854  \n",
       "33                  33,12,041    33,43,049  \n",
       "34                4,00,92,490  4,04,29,670  \n",
       "35                1,41,34,171  1,41,82,938  "
      ]
     },
     "execution_count": 9,
     "metadata": {},
     "output_type": "execute_result"
    }
   ],
   "source": [
    "data"
   ]
  },
  {
   "cell_type": "code",
   "execution_count": 10,
   "id": "bb23f859",
   "metadata": {
    "scrolled": true
   },
   "outputs": [
    {
     "data": {
      "text/plain": [
       "array(['Andaman & Nicobar Island', 'Andra Pradesh', 'Arunachal Pradesh',\n",
       "       'Assam', 'Bihar', 'Chandigarh', 'Chhattisgarh', 'Delhi', 'Goa',\n",
       "       'Gujarat', 'Haryana', 'Himachal Pradesh', 'Jammu and Kashmir',\n",
       "       'Jharkhand', 'Karnataka', 'Kerala', 'Ladakh', 'Lakshadweep',\n",
       "       'Madhya Pradesh', 'Maharashtra', 'Manipur', 'Meghalaya', 'Mizoram',\n",
       "       'Nagaland', 'Odisha', 'Puducherry', 'Punjab', 'Rajasthan',\n",
       "       'Sikkim', 'Tamil Nadu', 'Telangana', 'Tripura', 'UT of DNH and DD',\n",
       "       'Uttarakhand', 'Uttar Pradesh', 'West Bengal'], dtype=object)"
      ]
     },
     "execution_count": 10,
     "metadata": {},
     "output_type": "execute_result"
    }
   ],
   "source": [
    "data['State Name'].unique()"
   ]
  },
  {
   "cell_type": "markdown",
   "id": "f1ecba8a",
   "metadata": {},
   "source": [
    "**Data set contain information of distribution of electronic vehicles on majority of the states in India**"
   ]
  },
  {
   "cell_type": "code",
   "execution_count": 11,
   "id": "67b98b34",
   "metadata": {},
   "outputs": [
    {
     "data": {
      "text/plain": [
       "(36, 5)"
      ]
     },
     "execution_count": 11,
     "metadata": {},
     "output_type": "execute_result"
    }
   ],
   "source": [
    "data.shape"
   ]
  },
  {
   "cell_type": "code",
   "execution_count": 12,
   "id": "23953eb2",
   "metadata": {},
   "outputs": [
    {
     "data": {
      "text/html": [
       "<div>\n",
       "<style scoped>\n",
       "    .dataframe tbody tr th:only-of-type {\n",
       "        vertical-align: middle;\n",
       "    }\n",
       "\n",
       "    .dataframe tbody tr th {\n",
       "        vertical-align: top;\n",
       "    }\n",
       "\n",
       "    .dataframe thead th {\n",
       "        text-align: right;\n",
       "    }\n",
       "</style>\n",
       "<table border=\"1\" class=\"dataframe\">\n",
       "  <thead>\n",
       "    <tr style=\"text-align: right;\">\n",
       "      <th></th>\n",
       "      <th>Sr. No.</th>\n",
       "      <th>State Name</th>\n",
       "      <th>Total Electric Vehicle</th>\n",
       "      <th>Total Non-Electric Vehicle</th>\n",
       "      <th>Total</th>\n",
       "    </tr>\n",
       "  </thead>\n",
       "  <tbody>\n",
       "    <tr>\n",
       "      <th>0</th>\n",
       "      <td>1</td>\n",
       "      <td>Andaman &amp; Nicobar Island</td>\n",
       "      <td>162</td>\n",
       "      <td>1,46,945</td>\n",
       "      <td>1,47,107</td>\n",
       "    </tr>\n",
       "    <tr>\n",
       "      <th>1</th>\n",
       "      <td>2</td>\n",
       "      <td>Andra Pradesh</td>\n",
       "      <td>NaN</td>\n",
       "      <td>NaN</td>\n",
       "      <td>NaN</td>\n",
       "    </tr>\n",
       "    <tr>\n",
       "      <th>2</th>\n",
       "      <td>3</td>\n",
       "      <td>Arunachal Pradesh</td>\n",
       "      <td>20</td>\n",
       "      <td>2,52,965</td>\n",
       "      <td>2,52,985</td>\n",
       "    </tr>\n",
       "    <tr>\n",
       "      <th>3</th>\n",
       "      <td>4</td>\n",
       "      <td>Assam</td>\n",
       "      <td>64766</td>\n",
       "      <td>46,77,053</td>\n",
       "      <td>47,41,819</td>\n",
       "    </tr>\n",
       "    <tr>\n",
       "      <th>4</th>\n",
       "      <td>5</td>\n",
       "      <td>Bihar</td>\n",
       "      <td>83335</td>\n",
       "      <td>1,04,07,078</td>\n",
       "      <td>1,04,90,413</td>\n",
       "    </tr>\n",
       "  </tbody>\n",
       "</table>\n",
       "</div>"
      ],
      "text/plain": [
       "   Sr. No.                State Name Total Electric Vehicle  \\\n",
       "0        1  Andaman & Nicobar Island                    162   \n",
       "1        2             Andra Pradesh                    NaN   \n",
       "2        3         Arunachal Pradesh                     20   \n",
       "3        4                     Assam                  64766   \n",
       "4        5                     Bihar                  83335   \n",
       "\n",
       "  Total Non-Electric Vehicle        Total  \n",
       "0                   1,46,945     1,47,107  \n",
       "1                        NaN          NaN  \n",
       "2                   2,52,965     2,52,985  \n",
       "3                  46,77,053    47,41,819  \n",
       "4                1,04,07,078  1,04,90,413  "
      ]
     },
     "execution_count": 12,
     "metadata": {},
     "output_type": "execute_result"
    }
   ],
   "source": [
    "data.head()"
   ]
  },
  {
   "cell_type": "code",
   "execution_count": 13,
   "id": "55cba63c",
   "metadata": {
    "scrolled": false
   },
   "outputs": [
    {
     "data": {
      "text/html": [
       "<div>\n",
       "<style scoped>\n",
       "    .dataframe tbody tr th:only-of-type {\n",
       "        vertical-align: middle;\n",
       "    }\n",
       "\n",
       "    .dataframe tbody tr th {\n",
       "        vertical-align: top;\n",
       "    }\n",
       "\n",
       "    .dataframe thead th {\n",
       "        text-align: right;\n",
       "    }\n",
       "</style>\n",
       "<table border=\"1\" class=\"dataframe\">\n",
       "  <thead>\n",
       "    <tr style=\"text-align: right;\">\n",
       "      <th></th>\n",
       "      <th>Sr. No.</th>\n",
       "    </tr>\n",
       "  </thead>\n",
       "  <tbody>\n",
       "    <tr>\n",
       "      <th>count</th>\n",
       "      <td>36.000000</td>\n",
       "    </tr>\n",
       "    <tr>\n",
       "      <th>mean</th>\n",
       "      <td>18.500000</td>\n",
       "    </tr>\n",
       "    <tr>\n",
       "      <th>std</th>\n",
       "      <td>10.535654</td>\n",
       "    </tr>\n",
       "    <tr>\n",
       "      <th>min</th>\n",
       "      <td>1.000000</td>\n",
       "    </tr>\n",
       "    <tr>\n",
       "      <th>25%</th>\n",
       "      <td>9.750000</td>\n",
       "    </tr>\n",
       "    <tr>\n",
       "      <th>50%</th>\n",
       "      <td>18.500000</td>\n",
       "    </tr>\n",
       "    <tr>\n",
       "      <th>75%</th>\n",
       "      <td>27.250000</td>\n",
       "    </tr>\n",
       "    <tr>\n",
       "      <th>max</th>\n",
       "      <td>36.000000</td>\n",
       "    </tr>\n",
       "  </tbody>\n",
       "</table>\n",
       "</div>"
      ],
      "text/plain": [
       "         Sr. No.\n",
       "count  36.000000\n",
       "mean   18.500000\n",
       "std    10.535654\n",
       "min     1.000000\n",
       "25%     9.750000\n",
       "50%    18.500000\n",
       "75%    27.250000\n",
       "max    36.000000"
      ]
     },
     "execution_count": 13,
     "metadata": {},
     "output_type": "execute_result"
    }
   ],
   "source": [
    "data.describe()"
   ]
  },
  {
   "cell_type": "code",
   "execution_count": 14,
   "id": "b02c773f",
   "metadata": {},
   "outputs": [
    {
     "name": "stdout",
     "output_type": "stream",
     "text": [
      "<class 'pandas.core.frame.DataFrame'>\n",
      "RangeIndex: 36 entries, 0 to 35\n",
      "Data columns (total 5 columns):\n",
      " #   Column                      Non-Null Count  Dtype \n",
      "---  ------                      --------------  ----- \n",
      " 0   Sr. No.                     36 non-null     int64 \n",
      " 1   State Name                  36 non-null     object\n",
      " 2   Total Electric Vehicle      32 non-null     object\n",
      " 3   Total Non-Electric Vehicle  32 non-null     object\n",
      " 4   Total                       32 non-null     object\n",
      "dtypes: int64(1), object(4)\n",
      "memory usage: 1.5+ KB\n"
     ]
    }
   ],
   "source": [
    "data.info()"
   ]
  },
  {
   "cell_type": "code",
   "execution_count": 15,
   "id": "3a697412",
   "metadata": {},
   "outputs": [],
   "source": [
    "data['Total Electric Vehicle'] = pd.to_numeric(data['Total Electric Vehicle'], errors='coerce')"
   ]
  },
  {
   "cell_type": "code",
   "execution_count": 16,
   "id": "ff76ee0c",
   "metadata": {},
   "outputs": [
    {
     "data": {
      "text/plain": [
       "0       162.0\n",
       "1         NaN\n",
       "2        20.0\n",
       "3     64766.0\n",
       "4     83335.0\n",
       "5      2812.0\n",
       "6     20966.0\n",
       "7         NaN\n",
       "8      3870.0\n",
       "9     45272.0\n",
       "10    37035.0\n",
       "11     1175.0\n",
       "12     2941.0\n",
       "13    16811.0\n",
       "14        NaN\n",
       "15    30775.0\n",
       "16       26.0\n",
       "17        NaN\n",
       "18        NaN\n",
       "19        NaN\n",
       "20      586.0\n",
       "21       49.0\n",
       "22       21.0\n",
       "23       58.0\n",
       "24    23371.0\n",
       "25     2149.0\n",
       "26    14804.0\n",
       "27    81338.0\n",
       "28       21.0\n",
       "29    82051.0\n",
       "30        NaN\n",
       "31     9262.0\n",
       "32      183.0\n",
       "33    31008.0\n",
       "34        NaN\n",
       "35    48767.0\n",
       "Name: Total Electric Vehicle, dtype: float64"
      ]
     },
     "execution_count": 16,
     "metadata": {},
     "output_type": "execute_result"
    }
   ],
   "source": [
    "data['Total Electric Vehicle']"
   ]
  },
  {
   "cell_type": "markdown",
   "id": "d6123604",
   "metadata": {},
   "source": [
    "## State wise electric vehicle Distribution in India"
   ]
  },
  {
   "cell_type": "code",
   "execution_count": 17,
   "id": "bae8f031",
   "metadata": {},
   "outputs": [
    {
     "name": "stderr",
     "output_type": "stream",
     "text": [
      "C:\\Users\\HP\\anaconda3\\lib\\site-packages\\seaborn\\distributions.py:2619: FutureWarning: `distplot` is a deprecated function and will be removed in a future version. Please adapt your code to use either `displot` (a figure-level function with similar flexibility) or `histplot` (an axes-level function for histograms).\n",
      "  warnings.warn(msg, FutureWarning)\n"
     ]
    },
    {
     "data": {
      "image/png": "[encoded data removed]",
      "text/plain": [
       "<Figure size 720x432 with 1 Axes>"
      ]
     },
     "metadata": {
      "needs_background": "light"
     },
     "output_type": "display_data"
    }
   ],
   "source": [
    "plt.figure(figsize=(10,6))\n",
    "sns.distplot(data['Total Electric Vehicle'],color='b')\n",
    "plt.title(' EV Distribution',size=18)\n",
    "plt.xlabel('Total EV',size=14)\n",
    "plt.ylabel('Density',size=14)\n",
    "plt.show()"
   ]
  },
  {
   "cell_type": "code",
   "execution_count": 44,
   "id": "fbb0c78e",
   "metadata": {},
   "outputs": [
    {
     "data": {
      "image/png": "[encoded data removed]",
      "text/plain": [
       "<Figure size 432x432 with 1 Axes>"
      ]
     },
     "metadata": {
      "needs_background": "light"
     },
     "output_type": "display_data"
    }
   ],
   "source": [
    "plt.figure(figsize=(6, 6))\n",
    "sns.barplot(data=data, y=data['Total Electric Vehicle'], x=data['State Name'])\n",
    "plt.title('Total elecrtic vehicle distribution in each states')\n",
    "plt.xticks(family='serif')\n",
    "plt.tick_params(axis='x', rotation=90)\n",
    "plt.show()"
   ]
  },
  {
   "cell_type": "code",
   "execution_count": 37,
   "id": "fa07e9e0",
   "metadata": {
    "scrolled": true
   },
   "outputs": [
    {
     "name": "stderr",
     "output_type": "stream",
     "text": [
      "C:\\Users\\HP\\anaconda3\\lib\\site-packages\\seaborn\\_decorators.py:36: FutureWarning: Pass the following variable as a keyword arg: x. From version 0.12, the only valid positional argument will be `data`, and passing other arguments without an explicit keyword will result in an error or misinterpretation.\n",
      "  warnings.warn(\n"
     ]
    },
    {
     "data": {
      "image/png": "[encoded data removed]",
      "text/plain": [
       "<Figure size 720x432 with 1 Axes>"
      ]
     },
     "metadata": {
      "needs_background": "light"
     },
     "output_type": "display_data"
    }
   ],
   "source": [
    "plt.figure(figsize = (10,6))\n",
    "sns.boxplot(data['Total Electric Vehicle'])\n",
    "plt.title('Outliers in total electric vehicles',size=18)\n",
    "plt.show()"
   ]
  },
  {
   "cell_type": "markdown",
   "id": "a27e7add",
   "metadata": {},
   "source": [
    "# EDA on the EV data set"
   ]
  },
  {
   "cell_type": "code",
   "execution_count": 19,
   "id": "f2076efc",
   "metadata": {},
   "outputs": [],
   "source": [
    "my_ev_data=pd.read_csv(\"C:/Users/HP/Downloads/archive (7)/Evehicle_data2020.csv\")"
   ]
  },
  {
   "cell_type": "code",
   "execution_count": 20,
   "id": "a94c8e2f",
   "metadata": {},
   "outputs": [
    {
     "data": {
      "text/plain": [
       "(212, 18)"
      ]
     },
     "execution_count": 20,
     "metadata": {},
     "output_type": "execute_result"
    }
   ],
   "source": [
    "my_ev_data.shape"
   ]
  },
  {
   "cell_type": "code",
   "execution_count": 21,
   "id": "22b81a2b",
   "metadata": {},
   "outputs": [
    {
     "name": "stdout",
     "output_type": "stream",
     "text": [
      "<class 'pandas.core.frame.DataFrame'>\n",
      "RangeIndex: 212 entries, 0 to 211\n",
      "Data columns (total 18 columns):\n",
      " #   Column                       Non-Null Count  Dtype  \n",
      "---  ------                       --------------  -----  \n",
      " 0   Model                        212 non-null    object \n",
      " 1   Trans                        212 non-null    object \n",
      " 2   Drive                        212 non-null    object \n",
      " 3   Fuel                         212 non-null    object \n",
      " 4   Stnd                         212 non-null    object \n",
      " 5   Stnd Description             212 non-null    object \n",
      " 6   Veh Class                    212 non-null    object \n",
      " 7   Air Pollution Score          212 non-null    int64  \n",
      " 8   City MPG                     212 non-null    int64  \n",
      " 9   Hwy MPG                      212 non-null    int64  \n",
      " 10  Cmb MPG                      212 non-null    int64  \n",
      " 11  Greenhouse Gas Score         212 non-null    int64  \n",
      " 12  SmartWay                     212 non-null    object \n",
      " 13  EV battery capacity          212 non-null    object \n",
      " 14  Charge point capacity        212 non-null    object \n",
      " 15  Charge point plug type       212 non-null    object \n",
      " 16  Number of days battery used  212 non-null    int64  \n",
      " 17  Charge Time(min)             210 non-null    float64\n",
      "dtypes: float64(1), int64(6), object(11)\n",
      "memory usage: 29.9+ KB\n"
     ]
    }
   ],
   "source": [
    "my_ev_data.info()"
   ]
  },
  {
   "cell_type": "code",
   "execution_count": 22,
   "id": "9ed4e472",
   "metadata": {
    "scrolled": true
   },
   "outputs": [
    {
     "data": {
      "text/html": [
       "<div>\n",
       "<style scoped>\n",
       "    .dataframe tbody tr th:only-of-type {\n",
       "        vertical-align: middle;\n",
       "    }\n",
       "\n",
       "    .dataframe tbody tr th {\n",
       "        vertical-align: top;\n",
       "    }\n",
       "\n",
       "    .dataframe thead th {\n",
       "        text-align: right;\n",
       "    }\n",
       "</style>\n",
       "<table border=\"1\" class=\"dataframe\">\n",
       "  <thead>\n",
       "    <tr style=\"text-align: right;\">\n",
       "      <th></th>\n",
       "      <th>Model</th>\n",
       "      <th>Trans</th>\n",
       "      <th>Drive</th>\n",
       "      <th>Fuel</th>\n",
       "      <th>Stnd</th>\n",
       "      <th>Stnd Description</th>\n",
       "      <th>Veh Class</th>\n",
       "      <th>Air Pollution Score</th>\n",
       "      <th>City MPG</th>\n",
       "      <th>Hwy MPG</th>\n",
       "      <th>Cmb MPG</th>\n",
       "      <th>Greenhouse Gas Score</th>\n",
       "      <th>SmartWay</th>\n",
       "      <th>EV battery capacity</th>\n",
       "      <th>Charge point capacity</th>\n",
       "      <th>Charge point plug type</th>\n",
       "      <th>Number of days battery used</th>\n",
       "      <th>Charge Time(min)</th>\n",
       "    </tr>\n",
       "  </thead>\n",
       "  <tbody>\n",
       "    <tr>\n",
       "      <th>0</th>\n",
       "      <td>BYD e6</td>\n",
       "      <td>Auto-1</td>\n",
       "      <td>2WD</td>\n",
       "      <td>Electricity</td>\n",
       "      <td>B1</td>\n",
       "      <td>Federal Tier 2 Bin 1</td>\n",
       "      <td>small SUV</td>\n",
       "      <td>10</td>\n",
       "      <td>73</td>\n",
       "      <td>71</td>\n",
       "      <td>72</td>\n",
       "      <td>10</td>\n",
       "      <td>Elite</td>\n",
       "      <td>38.3 kWh</td>\n",
       "      <td>270 kW DC</td>\n",
       "      <td>Type 1</td>\n",
       "      <td>10</td>\n",
       "      <td>30.0</td>\n",
       "    </tr>\n",
       "    <tr>\n",
       "      <th>1</th>\n",
       "      <td>CHEVROLET Bolt EV</td>\n",
       "      <td>CVT</td>\n",
       "      <td>2WD</td>\n",
       "      <td>Electricity</td>\n",
       "      <td>T3B0</td>\n",
       "      <td>Federal Tier 3 Bin 0</td>\n",
       "      <td>station wagon</td>\n",
       "      <td>10</td>\n",
       "      <td>127</td>\n",
       "      <td>108</td>\n",
       "      <td>118</td>\n",
       "      <td>10</td>\n",
       "      <td>Elite</td>\n",
       "      <td>33.0 kWh</td>\n",
       "      <td>270 kW DC</td>\n",
       "      <td>Type 2</td>\n",
       "      <td>7</td>\n",
       "      <td>35.0</td>\n",
       "    </tr>\n",
       "    <tr>\n",
       "      <th>2</th>\n",
       "      <td>CHEVROLET Bolt EV</td>\n",
       "      <td>CVT</td>\n",
       "      <td>2WD</td>\n",
       "      <td>Electricity</td>\n",
       "      <td>ZEV</td>\n",
       "      <td>California ZEV</td>\n",
       "      <td>station wagon</td>\n",
       "      <td>10</td>\n",
       "      <td>127</td>\n",
       "      <td>108</td>\n",
       "      <td>118</td>\n",
       "      <td>10</td>\n",
       "      <td>Elite</td>\n",
       "      <td>35.8 kWh</td>\n",
       "      <td>250 kW DC</td>\n",
       "      <td>Type 2</td>\n",
       "      <td>9</td>\n",
       "      <td>35.0</td>\n",
       "    </tr>\n",
       "    <tr>\n",
       "      <th>3</th>\n",
       "      <td>HYUNDAI Ioniq Electric</td>\n",
       "      <td>Auto-1</td>\n",
       "      <td>2WD</td>\n",
       "      <td>Electricity</td>\n",
       "      <td>T3B0</td>\n",
       "      <td>Federal Tier 3 Bin 0</td>\n",
       "      <td>midsize car</td>\n",
       "      <td>10</td>\n",
       "      <td>145</td>\n",
       "      <td>121</td>\n",
       "      <td>133</td>\n",
       "      <td>10</td>\n",
       "      <td>Elite</td>\n",
       "      <td>38.3 kWh</td>\n",
       "      <td>230 kW</td>\n",
       "      <td>Type 3</td>\n",
       "      <td>10</td>\n",
       "      <td>25.0</td>\n",
       "    </tr>\n",
       "    <tr>\n",
       "      <th>4</th>\n",
       "      <td>HYUNDAI Ioniq Electric</td>\n",
       "      <td>Auto-1</td>\n",
       "      <td>2WD</td>\n",
       "      <td>Electricity</td>\n",
       "      <td>ZEV</td>\n",
       "      <td>California ZEV</td>\n",
       "      <td>midsize car</td>\n",
       "      <td>10</td>\n",
       "      <td>145</td>\n",
       "      <td>121</td>\n",
       "      <td>133</td>\n",
       "      <td>10</td>\n",
       "      <td>Elite</td>\n",
       "      <td>38.3 kWh</td>\n",
       "      <td>230 kW</td>\n",
       "      <td>Type 3</td>\n",
       "      <td>10</td>\n",
       "      <td>25.0</td>\n",
       "    </tr>\n",
       "  </tbody>\n",
       "</table>\n",
       "</div>"
      ],
      "text/plain": [
       "                    Model   Trans Drive         Fuel  Stnd  \\\n",
       "0                  BYD e6  Auto-1   2WD  Electricity    B1   \n",
       "1       CHEVROLET Bolt EV     CVT   2WD  Electricity  T3B0   \n",
       "2       CHEVROLET Bolt EV     CVT   2WD  Electricity   ZEV   \n",
       "3  HYUNDAI Ioniq Electric  Auto-1   2WD  Electricity  T3B0   \n",
       "4  HYUNDAI Ioniq Electric  Auto-1   2WD  Electricity   ZEV   \n",
       "\n",
       "       Stnd Description      Veh Class  Air Pollution Score  City MPG  \\\n",
       "0  Federal Tier 2 Bin 1      small SUV                   10        73   \n",
       "1  Federal Tier 3 Bin 0  station wagon                   10       127   \n",
       "2        California ZEV  station wagon                   10       127   \n",
       "3  Federal Tier 3 Bin 0    midsize car                   10       145   \n",
       "4        California ZEV    midsize car                   10       145   \n",
       "\n",
       "   Hwy MPG  Cmb MPG  Greenhouse Gas Score SmartWay EV battery capacity  \\\n",
       "0       71       72                    10    Elite            38.3 kWh   \n",
       "1      108      118                    10    Elite            33.0 kWh   \n",
       "2      108      118                    10    Elite            35.8 kWh   \n",
       "3      121      133                    10    Elite            38.3 kWh   \n",
       "4      121      133                    10    Elite            38.3 kWh   \n",
       "\n",
       "  Charge point capacity Charge point plug type  Number of days battery used  \\\n",
       "0             270 kW DC                 Type 1                           10   \n",
       "1             270 kW DC                 Type 2                            7   \n",
       "2             250 kW DC                 Type 2                            9   \n",
       "3                230 kW                 Type 3                           10   \n",
       "4                230 kW                 Type 3                           10   \n",
       "\n",
       "   Charge Time(min)  \n",
       "0              30.0  \n",
       "1              35.0  \n",
       "2              35.0  \n",
       "3              25.0  \n",
       "4              25.0  "
      ]
     },
     "execution_count": 22,
     "metadata": {},
     "output_type": "execute_result"
    }
   ],
   "source": [
    "my_ev_data.head()"
   ]
  },
  {
   "cell_type": "markdown",
   "id": "a19ac4aa",
   "metadata": {},
   "source": [
    "## Number of vehicle classes manufactured"
   ]
  },
  {
   "cell_type": "code",
   "execution_count": 49,
   "id": "72c285b2",
   "metadata": {},
   "outputs": [
    {
     "data": {
      "image/png": "[encoded data removed]",
      "text/plain": [
       "<Figure size 864x432 with 1 Axes>"
      ]
     },
     "metadata": {
      "needs_background": "light"
     },
     "output_type": "display_data"
    }
   ],
   "source": [
    "sns.catplot(data= my_ev_data, x='Veh Class', kind='count', palette='viridis', height=6, aspect=2)\n",
    "sns.despine(right=False, top=False)\n",
    "plt.tick_params(axis='x', rotation=40)\n",
    "plt.xlabel('vehicle class',family='serif', size=12)\n",
    "plt.ylabel('Count', family='serif', size=12)\n",
    "plt.xticks(family='serif')\n",
    "plt.yticks(family='serif')\n",
    "plt.title('Number of vehicle classes manufactured ', family='serif', size=15)\n",
    "plt.show()"
   ]
  },
  {
   "cell_type": "markdown",
   "id": "962a235e",
   "metadata": {},
   "source": [
    "## Electronic Vehicle Models Manufactured"
   ]
  },
  {
   "cell_type": "code",
   "execution_count": 52,
   "id": "5c903b41",
   "metadata": {},
   "outputs": [
    {
     "data": {
      "image/png": "[encoded data removed]",
      "text/plain": [
       "<Figure size 864x432 with 1 Axes>"
      ]
     },
     "metadata": {
      "needs_background": "light"
     },
     "output_type": "display_data"
    }
   ],
   "source": [
    "sns.catplot(data= my_ev_data, x='Model', kind='count', palette='viridis', height=6, aspect=2)\n",
    "sns.despine(right=False, top=False)\n",
    "plt.tick_params(axis='x', rotation=90)\n",
    "plt.xlabel('Vehicle Model',family='serif', size=12)\n",
    "plt.ylabel('Count', family='serif', size=12)\n",
    "plt.xticks(family='serif')\n",
    "plt.yticks(family='serif')\n",
    "plt.title('Number of vehicle models manufactured ', family='serif', size=15)\n",
    "plt.show()"
   ]
  },
  {
   "cell_type": "markdown",
   "id": "030c29ee",
   "metadata": {},
   "source": [
    "## Available Plug Types of EVs"
   ]
  },
  {
   "cell_type": "code",
   "execution_count": 55,
   "id": "673f6ed0",
   "metadata": {},
   "outputs": [
    {
     "data": {
      "image/png": "[encoded data removed]",
      "text/plain": [
       "<Figure size 432x288 with 1 Axes>"
      ]
     },
     "metadata": {
      "needs_background": "light"
     },
     "output_type": "display_data"
    }
   ],
   "source": [
    "my_ev_data['Charge point plug type'].value_counts().sort_values(ascending=True).plot.barh()\n",
    "plt.xlabel('Count', family='serif', size=12)\n",
    "plt.ylabel('Plug Type', family='serif', size=12)\n",
    "plt.xticks(family='serif')\n",
    "plt.yticks(family='serif')\n",
    "plt.title('Available Plug Types of EVs', family='serif', size=15)\n",
    "plt.show()\n",
    "     "
   ]
  },
  {
   "cell_type": "markdown",
   "id": "14c33842",
   "metadata": {},
   "source": [
    "## Battery capacity of different EVs"
   ]
  },
  {
   "cell_type": "code",
   "execution_count": 59,
   "id": "6dfbc324",
   "metadata": {},
   "outputs": [
    {
     "data": {
      "image/png": "[encoded data removed]",
      "text/plain": [
       "<Figure size 432x288 with 1 Axes>"
      ]
     },
     "metadata": {
      "needs_background": "light"
     },
     "output_type": "display_data"
    }
   ],
   "source": [
    "my_ev_data['EV battery capacity'].value_counts().sort_values(ascending=True).plot.barh()\n",
    "plt.xlabel('Count', family='serif', size=12)\n",
    "plt.ylabel('EV battery capacity', family='serif', size=12)\n",
    "plt.xticks(family='serif')\n",
    "plt.yticks(family='serif')\n",
    "plt.title('Battery capacity of different EVs', family='serif', size=15)\n",
    "plt.show()"
   ]
  },
  {
   "cell_type": "markdown",
   "id": "f41e9b4f",
   "metadata": {},
   "source": [
    "## Charging time of different EVs"
   ]
  },
  {
   "cell_type": "code",
   "execution_count": null,
   "id": "cc840c41",
   "metadata": {},
   "outputs": [],
   "source": [
    "Charge Time(min)"
   ]
  },
  {
   "cell_type": "code",
   "execution_count": 58,
   "id": "fa30992a",
   "metadata": {},
   "outputs": [
    {
     "data": {
      "image/png": "[encoded data removed]",
      "text/plain": [
       "<Figure size 432x288 with 1 Axes>"
      ]
     },
     "metadata": {
      "needs_background": "light"
     },
     "output_type": "display_data"
    }
   ],
   "source": [
    "my_ev_data['Charge Time(min)'].value_counts().sort_values(ascending=True).plot.barh()\n",
    "plt.xlabel('Count', family='serif', size=12)\n",
    "plt.ylabel('charging time', family='serif', size=12)\n",
    "plt.xticks(family='serif')\n",
    "plt.yticks(family='serif')\n",
    "plt.title('charging time of different EVs', family='serif', size=15)\n",
    "plt.show()"
   ]
  },
  {
   "cell_type": "markdown",
   "id": "66109fd2",
   "metadata": {},
   "source": [
    "## Correlation Between Variables"
   ]
  },
  {
   "cell_type": "code",
   "execution_count": 60,
   "id": "9f8e18cb",
   "metadata": {},
   "outputs": [
    {
     "data": {
      "image/png": "[encoded data removed]",
      "text/plain": [
       "<Figure size 432x432 with 1 Axes>"
      ]
     },
     "metadata": {
      "needs_background": "light"
     },
     "output_type": "display_data"
    }
   ],
   "source": [
    "plt.figure(figsize=(6,6))\n",
    "sns.heatmap(data=my_ev_data.corr(), annot=True, cmap='Purples', cbar=False, square=True, fmt='.2f', linewidths=.3)\n",
    "plt.title('Correlation Matrix', family='serif', size=15, pad=12);\n",
    "     "
   ]
  },
  {
   "cell_type": "code",
   "execution_count": 23,
   "id": "c23ac965",
   "metadata": {},
   "outputs": [
    {
     "data": {
      "text/plain": [
       "array(['2WD', '4WD'], dtype=object)"
      ]
     },
     "execution_count": 23,
     "metadata": {},
     "output_type": "execute_result"
    }
   ],
   "source": [
    "my_ev_data['Drive'].unique()"
   ]
  },
  {
   "cell_type": "markdown",
   "id": "e9161490",
   "metadata": {},
   "source": [
    "There are 2 different values in column 'Drive' such as 2WD and 4WD"
   ]
  },
  {
   "cell_type": "code",
   "execution_count": 24,
   "id": "a34022cb",
   "metadata": {},
   "outputs": [
    {
     "data": {
      "text/plain": [
       "array(['Auto-1', 'CVT'], dtype=object)"
      ]
     },
     "execution_count": 24,
     "metadata": {},
     "output_type": "execute_result"
    }
   ],
   "source": [
    "my_ev_data['Trans'].unique()"
   ]
  },
  {
   "cell_type": "markdown",
   "id": "abb6597d",
   "metadata": {},
   "source": [
    "There are 2 different values in column 'trans' such as Auto-1 and CVT"
   ]
  },
  {
   "cell_type": "code",
   "execution_count": 25,
   "id": "4289bcb9",
   "metadata": {
    "scrolled": true
   },
   "outputs": [
    {
     "data": {
      "text/plain": [
       "array(['small SUV', 'station wagon', 'midsize car', 'large car',\n",
       "       'standard SUV', 'small car'], dtype=object)"
      ]
     },
     "execution_count": 25,
     "metadata": {},
     "output_type": "execute_result"
    }
   ],
   "source": [
    "my_ev_data['Veh Class'].unique()"
   ]
  },
  {
   "cell_type": "markdown",
   "id": "df5599f2",
   "metadata": {},
   "source": [
    "There are different class of vehicles in the data set as small SUV', 'station wagon', 'midsize car', 'large car',\n",
    "       'standard SUV' and 'small car "
   ]
  },
  {
   "cell_type": "markdown",
   "id": "5ab0f152",
   "metadata": {},
   "source": [
    "## Model Building Using K-Means Clusteing"
   ]
  },
  {
   "cell_type": "code",
   "execution_count": 26,
   "id": "e1367ff3",
   "metadata": {},
   "outputs": [],
   "source": [
    "my_ev_data['Drive'].replace(to_replace=['2WD','4WD'],value=[0, 1],inplace=True)\n",
    "\n",
    "\n",
    "my_ev_data['Trans'].replace(to_replace=['Auto-1','CVT'],value=[0, 1],inplace=True)\n",
    "\n",
    "my_ev_data['Veh Class'].replace(to_replace=['small SUV', 'station wagon', 'midsize car', 'large car',\n",
    "       'standard SUV', 'small car'],value=[0, 1,2,3,4,5],inplace=True)"
   ]
  },
  {
   "cell_type": "code",
   "execution_count": 27,
   "id": "87b68a11",
   "metadata": {},
   "outputs": [
    {
     "data": {
      "text/html": [
       "<div>\n",
       "<style scoped>\n",
       "    .dataframe tbody tr th:only-of-type {\n",
       "        vertical-align: middle;\n",
       "    }\n",
       "\n",
       "    .dataframe tbody tr th {\n",
       "        vertical-align: top;\n",
       "    }\n",
       "\n",
       "    .dataframe thead th {\n",
       "        text-align: right;\n",
       "    }\n",
       "</style>\n",
       "<table border=\"1\" class=\"dataframe\">\n",
       "  <thead>\n",
       "    <tr style=\"text-align: right;\">\n",
       "      <th></th>\n",
       "      <th>Model</th>\n",
       "      <th>Trans</th>\n",
       "      <th>Drive</th>\n",
       "      <th>Fuel</th>\n",
       "      <th>Stnd</th>\n",
       "      <th>Stnd Description</th>\n",
       "      <th>Veh Class</th>\n",
       "      <th>Air Pollution Score</th>\n",
       "      <th>City MPG</th>\n",
       "      <th>Hwy MPG</th>\n",
       "      <th>Cmb MPG</th>\n",
       "      <th>Greenhouse Gas Score</th>\n",
       "      <th>SmartWay</th>\n",
       "      <th>EV battery capacity</th>\n",
       "      <th>Charge point capacity</th>\n",
       "      <th>Charge point plug type</th>\n",
       "      <th>Number of days battery used</th>\n",
       "      <th>Charge Time(min)</th>\n",
       "    </tr>\n",
       "  </thead>\n",
       "  <tbody>\n",
       "    <tr>\n",
       "      <th>0</th>\n",
       "      <td>BYD e6</td>\n",
       "      <td>0</td>\n",
       "      <td>0</td>\n",
       "      <td>Electricity</td>\n",
       "      <td>B1</td>\n",
       "      <td>Federal Tier 2 Bin 1</td>\n",
       "      <td>0</td>\n",
       "      <td>10</td>\n",
       "      <td>73</td>\n",
       "      <td>71</td>\n",
       "      <td>72</td>\n",
       "      <td>10</td>\n",
       "      <td>Elite</td>\n",
       "      <td>38.3 kWh</td>\n",
       "      <td>270 kW DC</td>\n",
       "      <td>Type 1</td>\n",
       "      <td>10</td>\n",
       "      <td>30.0</td>\n",
       "    </tr>\n",
       "    <tr>\n",
       "      <th>1</th>\n",
       "      <td>CHEVROLET Bolt EV</td>\n",
       "      <td>1</td>\n",
       "      <td>0</td>\n",
       "      <td>Electricity</td>\n",
       "      <td>T3B0</td>\n",
       "      <td>Federal Tier 3 Bin 0</td>\n",
       "      <td>1</td>\n",
       "      <td>10</td>\n",
       "      <td>127</td>\n",
       "      <td>108</td>\n",
       "      <td>118</td>\n",
       "      <td>10</td>\n",
       "      <td>Elite</td>\n",
       "      <td>33.0 kWh</td>\n",
       "      <td>270 kW DC</td>\n",
       "      <td>Type 2</td>\n",
       "      <td>7</td>\n",
       "      <td>35.0</td>\n",
       "    </tr>\n",
       "    <tr>\n",
       "      <th>2</th>\n",
       "      <td>CHEVROLET Bolt EV</td>\n",
       "      <td>1</td>\n",
       "      <td>0</td>\n",
       "      <td>Electricity</td>\n",
       "      <td>ZEV</td>\n",
       "      <td>California ZEV</td>\n",
       "      <td>1</td>\n",
       "      <td>10</td>\n",
       "      <td>127</td>\n",
       "      <td>108</td>\n",
       "      <td>118</td>\n",
       "      <td>10</td>\n",
       "      <td>Elite</td>\n",
       "      <td>35.8 kWh</td>\n",
       "      <td>250 kW DC</td>\n",
       "      <td>Type 2</td>\n",
       "      <td>9</td>\n",
       "      <td>35.0</td>\n",
       "    </tr>\n",
       "    <tr>\n",
       "      <th>3</th>\n",
       "      <td>HYUNDAI Ioniq Electric</td>\n",
       "      <td>0</td>\n",
       "      <td>0</td>\n",
       "      <td>Electricity</td>\n",
       "      <td>T3B0</td>\n",
       "      <td>Federal Tier 3 Bin 0</td>\n",
       "      <td>2</td>\n",
       "      <td>10</td>\n",
       "      <td>145</td>\n",
       "      <td>121</td>\n",
       "      <td>133</td>\n",
       "      <td>10</td>\n",
       "      <td>Elite</td>\n",
       "      <td>38.3 kWh</td>\n",
       "      <td>230 kW</td>\n",
       "      <td>Type 3</td>\n",
       "      <td>10</td>\n",
       "      <td>25.0</td>\n",
       "    </tr>\n",
       "    <tr>\n",
       "      <th>4</th>\n",
       "      <td>HYUNDAI Ioniq Electric</td>\n",
       "      <td>0</td>\n",
       "      <td>0</td>\n",
       "      <td>Electricity</td>\n",
       "      <td>ZEV</td>\n",
       "      <td>California ZEV</td>\n",
       "      <td>2</td>\n",
       "      <td>10</td>\n",
       "      <td>145</td>\n",
       "      <td>121</td>\n",
       "      <td>133</td>\n",
       "      <td>10</td>\n",
       "      <td>Elite</td>\n",
       "      <td>38.3 kWh</td>\n",
       "      <td>230 kW</td>\n",
       "      <td>Type 3</td>\n",
       "      <td>10</td>\n",
       "      <td>25.0</td>\n",
       "    </tr>\n",
       "    <tr>\n",
       "      <th>...</th>\n",
       "      <td>...</td>\n",
       "      <td>...</td>\n",
       "      <td>...</td>\n",
       "      <td>...</td>\n",
       "      <td>...</td>\n",
       "      <td>...</td>\n",
       "      <td>...</td>\n",
       "      <td>...</td>\n",
       "      <td>...</td>\n",
       "      <td>...</td>\n",
       "      <td>...</td>\n",
       "      <td>...</td>\n",
       "      <td>...</td>\n",
       "      <td>...</td>\n",
       "      <td>...</td>\n",
       "      <td>...</td>\n",
       "      <td>...</td>\n",
       "      <td>...</td>\n",
       "    </tr>\n",
       "    <tr>\n",
       "      <th>207</th>\n",
       "      <td>TESLA Model X Performance (22\")</td>\n",
       "      <td>0</td>\n",
       "      <td>1</td>\n",
       "      <td>Electricity</td>\n",
       "      <td>ZEV</td>\n",
       "      <td>California ZEV</td>\n",
       "      <td>4</td>\n",
       "      <td>10</td>\n",
       "      <td>80</td>\n",
       "      <td>77</td>\n",
       "      <td>79</td>\n",
       "      <td>10</td>\n",
       "      <td>Elite</td>\n",
       "      <td>38.3 kWh</td>\n",
       "      <td>130 kW DC</td>\n",
       "      <td>Type 3</td>\n",
       "      <td>10</td>\n",
       "      <td>34.0</td>\n",
       "    </tr>\n",
       "    <tr>\n",
       "      <th>208</th>\n",
       "      <td>TESLA Model X Standard Range</td>\n",
       "      <td>0</td>\n",
       "      <td>1</td>\n",
       "      <td>Electricity</td>\n",
       "      <td>T3B0</td>\n",
       "      <td>Federal Tier 3 Bin 0</td>\n",
       "      <td>4</td>\n",
       "      <td>10</td>\n",
       "      <td>105</td>\n",
       "      <td>98</td>\n",
       "      <td>101</td>\n",
       "      <td>10</td>\n",
       "      <td>Elite</td>\n",
       "      <td>38.3 kWh</td>\n",
       "      <td>250 kW DC</td>\n",
       "      <td>Type 2</td>\n",
       "      <td>9</td>\n",
       "      <td>37.0</td>\n",
       "    </tr>\n",
       "    <tr>\n",
       "      <th>209</th>\n",
       "      <td>TESLA Model X Standard Range</td>\n",
       "      <td>0</td>\n",
       "      <td>1</td>\n",
       "      <td>Electricity</td>\n",
       "      <td>ZEV</td>\n",
       "      <td>California ZEV</td>\n",
       "      <td>4</td>\n",
       "      <td>10</td>\n",
       "      <td>105</td>\n",
       "      <td>98</td>\n",
       "      <td>101</td>\n",
       "      <td>10</td>\n",
       "      <td>Elite</td>\n",
       "      <td>38.3 kWh</td>\n",
       "      <td>250 kW DC</td>\n",
       "      <td>Type 2</td>\n",
       "      <td>9</td>\n",
       "      <td>22.0</td>\n",
       "    </tr>\n",
       "    <tr>\n",
       "      <th>210</th>\n",
       "      <td>VOLKSWAGEN e-Golf</td>\n",
       "      <td>0</td>\n",
       "      <td>0</td>\n",
       "      <td>Electricity</td>\n",
       "      <td>T3B0</td>\n",
       "      <td>Federal Tier 3 Bin 0</td>\n",
       "      <td>5</td>\n",
       "      <td>10</td>\n",
       "      <td>126</td>\n",
       "      <td>111</td>\n",
       "      <td>119</td>\n",
       "      <td>10</td>\n",
       "      <td>Elite</td>\n",
       "      <td>35.8 kWh</td>\n",
       "      <td>230 kW</td>\n",
       "      <td>Type 2</td>\n",
       "      <td>7</td>\n",
       "      <td>36.0</td>\n",
       "    </tr>\n",
       "    <tr>\n",
       "      <th>211</th>\n",
       "      <td>VOLKSWAGEN e-Golf</td>\n",
       "      <td>0</td>\n",
       "      <td>0</td>\n",
       "      <td>Electricity</td>\n",
       "      <td>ZEV</td>\n",
       "      <td>California ZEV</td>\n",
       "      <td>5</td>\n",
       "      <td>10</td>\n",
       "      <td>126</td>\n",
       "      <td>111</td>\n",
       "      <td>119</td>\n",
       "      <td>10</td>\n",
       "      <td>Elite</td>\n",
       "      <td>35.8 kWh</td>\n",
       "      <td>230 kW</td>\n",
       "      <td>Type 2</td>\n",
       "      <td>7</td>\n",
       "      <td>36.0</td>\n",
       "    </tr>\n",
       "  </tbody>\n",
       "</table>\n",
       "<p>212 rows × 18 columns</p>\n",
       "</div>"
      ],
      "text/plain": [
       "                               Model  Trans  Drive         Fuel  Stnd  \\\n",
       "0                             BYD e6      0      0  Electricity    B1   \n",
       "1                  CHEVROLET Bolt EV      1      0  Electricity  T3B0   \n",
       "2                  CHEVROLET Bolt EV      1      0  Electricity   ZEV   \n",
       "3             HYUNDAI Ioniq Electric      0      0  Electricity  T3B0   \n",
       "4             HYUNDAI Ioniq Electric      0      0  Electricity   ZEV   \n",
       "..                               ...    ...    ...          ...   ...   \n",
       "207  TESLA Model X Performance (22\")      0      1  Electricity   ZEV   \n",
       "208     TESLA Model X Standard Range      0      1  Electricity  T3B0   \n",
       "209     TESLA Model X Standard Range      0      1  Electricity   ZEV   \n",
       "210                VOLKSWAGEN e-Golf      0      0  Electricity  T3B0   \n",
       "211                VOLKSWAGEN e-Golf      0      0  Electricity   ZEV   \n",
       "\n",
       "         Stnd Description  Veh Class  Air Pollution Score  City MPG  Hwy MPG  \\\n",
       "0    Federal Tier 2 Bin 1          0                   10        73       71   \n",
       "1    Federal Tier 3 Bin 0          1                   10       127      108   \n",
       "2          California ZEV          1                   10       127      108   \n",
       "3    Federal Tier 3 Bin 0          2                   10       145      121   \n",
       "4          California ZEV          2                   10       145      121   \n",
       "..                    ...        ...                  ...       ...      ...   \n",
       "207        California ZEV          4                   10        80       77   \n",
       "208  Federal Tier 3 Bin 0          4                   10       105       98   \n",
       "209        California ZEV          4                   10       105       98   \n",
       "210  Federal Tier 3 Bin 0          5                   10       126      111   \n",
       "211        California ZEV          5                   10       126      111   \n",
       "\n",
       "     Cmb MPG  Greenhouse Gas Score SmartWay EV battery capacity  \\\n",
       "0         72                    10    Elite            38.3 kWh   \n",
       "1        118                    10    Elite            33.0 kWh   \n",
       "2        118                    10    Elite            35.8 kWh   \n",
       "3        133                    10    Elite            38.3 kWh   \n",
       "4        133                    10    Elite            38.3 kWh   \n",
       "..       ...                   ...      ...                 ...   \n",
       "207       79                    10    Elite            38.3 kWh   \n",
       "208      101                    10    Elite            38.3 kWh   \n",
       "209      101                    10    Elite            38.3 kWh   \n",
       "210      119                    10    Elite            35.8 kWh   \n",
       "211      119                    10    Elite            35.8 kWh   \n",
       "\n",
       "    Charge point capacity Charge point plug type  Number of days battery used  \\\n",
       "0               270 kW DC                 Type 1                           10   \n",
       "1               270 kW DC                 Type 2                            7   \n",
       "2               250 kW DC                 Type 2                            9   \n",
       "3                  230 kW                 Type 3                           10   \n",
       "4                  230 kW                 Type 3                           10   \n",
       "..                    ...                    ...                          ...   \n",
       "207             130 kW DC                 Type 3                           10   \n",
       "208             250 kW DC                 Type 2                            9   \n",
       "209             250 kW DC                 Type 2                            9   \n",
       "210                230 kW                 Type 2                            7   \n",
       "211                230 kW                 Type 2                            7   \n",
       "\n",
       "     Charge Time(min)  \n",
       "0                30.0  \n",
       "1                35.0  \n",
       "2                35.0  \n",
       "3                25.0  \n",
       "4                25.0  \n",
       "..                ...  \n",
       "207              34.0  \n",
       "208              37.0  \n",
       "209              22.0  \n",
       "210              36.0  \n",
       "211              36.0  \n",
       "\n",
       "[212 rows x 18 columns]"
      ]
     },
     "execution_count": 27,
     "metadata": {},
     "output_type": "execute_result"
    }
   ],
   "source": [
    "my_ev_data"
   ]
  },
  {
   "cell_type": "code",
   "execution_count": 28,
   "id": "acc94fd9",
   "metadata": {},
   "outputs": [
    {
     "data": {
      "text/html": [
       "<div>\n",
       "<style scoped>\n",
       "    .dataframe tbody tr th:only-of-type {\n",
       "        vertical-align: middle;\n",
       "    }\n",
       "\n",
       "    .dataframe tbody tr th {\n",
       "        vertical-align: top;\n",
       "    }\n",
       "\n",
       "    .dataframe thead th {\n",
       "        text-align: right;\n",
       "    }\n",
       "</style>\n",
       "<table border=\"1\" class=\"dataframe\">\n",
       "  <thead>\n",
       "    <tr style=\"text-align: right;\">\n",
       "      <th></th>\n",
       "      <th>PC1</th>\n",
       "      <th>PC2</th>\n",
       "      <th>PC3</th>\n",
       "    </tr>\n",
       "  </thead>\n",
       "  <tbody>\n",
       "    <tr>\n",
       "      <th>0</th>\n",
       "      <td>1.794334</td>\n",
       "      <td>-1.117951</td>\n",
       "      <td>0.927880</td>\n",
       "    </tr>\n",
       "    <tr>\n",
       "      <th>1</th>\n",
       "      <td>5.340411</td>\n",
       "      <td>4.988307</td>\n",
       "      <td>-1.233233</td>\n",
       "    </tr>\n",
       "    <tr>\n",
       "      <th>2</th>\n",
       "      <td>5.340411</td>\n",
       "      <td>4.988307</td>\n",
       "      <td>-1.233233</td>\n",
       "    </tr>\n",
       "    <tr>\n",
       "      <th>3</th>\n",
       "      <td>0.924305</td>\n",
       "      <td>-0.834494</td>\n",
       "      <td>-0.172834</td>\n",
       "    </tr>\n",
       "    <tr>\n",
       "      <th>4</th>\n",
       "      <td>0.924305</td>\n",
       "      <td>-0.834494</td>\n",
       "      <td>-0.172834</td>\n",
       "    </tr>\n",
       "  </tbody>\n",
       "</table>\n",
       "</div>"
      ],
      "text/plain": [
       "        PC1       PC2       PC3\n",
       "0  1.794334 -1.117951  0.927880\n",
       "1  5.340411  4.988307 -1.233233\n",
       "2  5.340411  4.988307 -1.233233\n",
       "3  0.924305 -0.834494 -0.172834\n",
       "4  0.924305 -0.834494 -0.172834"
      ]
     },
     "execution_count": 28,
     "metadata": {},
     "output_type": "execute_result"
    }
   ],
   "source": [
    "X = my_ev_data[['Drive','Trans','Veh Class']]\n",
    "     \n",
    "\n",
    "# feature scaling\n",
    "scaler = StandardScaler()\n",
    "X_scaled = scaler.fit_transform(X)\n",
    "     \n",
    "\n",
    "# applying Principle Component Analysis (PCA)\n",
    "pca = PCA(n_components=3)\n",
    "X_pca = pca.fit_transform(X_scaled)\n",
    "df_pca = pd.DataFrame(X_pca, columns=['PC1', 'PC2', 'PC3'])\n",
    "df_pca.head()"
   ]
  },
  {
   "cell_type": "code",
   "execution_count": 29,
   "id": "fd6e2bc4",
   "metadata": {},
   "outputs": [
    {
     "data": {
      "image/png": "[encoded data removed]",
      "text/plain": [
       "<Figure size 576x432 with 1 Axes>"
      ]
     },
     "metadata": {
      "needs_background": "light"
     },
     "output_type": "display_data"
    }
   ],
   "source": [
    "wcss = []\n",
    "\n",
    "for i in range(2, 11):\n",
    "  kmean = KMeans(n_clusters=i, init='k-means++', random_state=90)\n",
    "  kmean.fit(X_pca)\n",
    "  wcss.append(kmean.inertia_)\n",
    "\n",
    "plt.figure(figsize=(8,6))\n",
    "plt.title('Plot of the Elbow Method', size=15, family='serif')\n",
    "plt.plot(range(2, 11), wcss)\n",
    "plt.xticks(range(2, 11), family='serif')\n",
    "plt.yticks(family='serif')\n",
    "plt.xlabel('Number of Custers (K)', family='serif')\n",
    "plt.ylabel('WCSS', family='serif')\n",
    "plt.grid()\n",
    "plt.tick_params(axis='both', direction='inout', length=6, color='purple', grid_color='lightgray', grid_linestyle='--')\n",
    "plt.show()\n"
   ]
  },
  {
   "cell_type": "code",
   "execution_count": 30,
   "id": "d0d72b7a",
   "metadata": {},
   "outputs": [
    {
     "data": {
      "text/plain": [
       "KMeans(n_clusters=4, random_state=90)"
      ]
     },
     "execution_count": 30,
     "metadata": {},
     "output_type": "execute_result"
    }
   ],
   "source": [
    "kmean = KMeans(n_clusters=4, init='k-means++', random_state=90)\n",
    "kmean.fit(X_pca)"
   ]
  },
  {
   "cell_type": "code",
   "execution_count": 31,
   "id": "da81077f",
   "metadata": {},
   "outputs": [
    {
     "name": "stdout",
     "output_type": "stream",
     "text": [
      "[0 3 3 0 0 0 0 0 0 0 0 2 2 2 2 2 2 2 2 0 0 0 0 0 0 0 0 2 2 2 2 2 2 2 2 2 2\n",
      " 2 2 2 2 2 2 1 1 2 2 1 1 1 1 0 0 0 1 1 0 0 0 0 0 0 1 1 1 1 2 2 2 2 0 0 0 0\n",
      " 0 0 0 0 2 2 2 2 2 2 2 2 2 2 2 2 2 2 2 2 2 2 2 2 2 2 2 2 2 2 1 1 0 3 3 0 0\n",
      " 0 0 0 0 0 0 2 2 2 2 2 2 2 2 0 0 0 0 0 0 0 0 2 2 2 2 2 2 2 2 2 2 2 2 2 2 2\n",
      " 2 1 1 2 2 1 1 1 1 0 0 0 1 1 0 0 0 0 0 0 1 1 1 1 2 2 2 2 0 0 0 0 0 0 0 0 2\n",
      " 2 2 2 2 2 2 2 2 2 2 2 2 2 2 2 2 2 2 2 2 2 2 2 2 2 1 1]\n"
     ]
    }
   ],
   "source": [
    "print(kmean.labels_)"
   ]
  },
  {
   "cell_type": "code",
   "execution_count": 32,
   "id": "3d1ba60c",
   "metadata": {},
   "outputs": [
    {
     "data": {
      "text/plain": [
       "2    112\n",
       "0     68\n",
       "1     28\n",
       "3      4\n",
       "dtype: int64"
      ]
     },
     "execution_count": 32,
     "metadata": {},
     "output_type": "execute_result"
    }
   ],
   "source": [
    "pd.Series(kmean.labels_).value_counts()"
   ]
  },
  {
   "cell_type": "markdown",
   "id": "ad49a690",
   "metadata": {},
   "source": [
    "## K-Means Clustering Results"
   ]
  },
  {
   "cell_type": "code",
   "execution_count": 33,
   "id": "68c82c2b",
   "metadata": {},
   "outputs": [
    {
     "data": {
      "image/png": "[encoded data removed]",
      "text/plain": [
       "<Figure size 504x360 with 1 Axes>"
      ]
     },
     "metadata": {
      "needs_background": "light"
     },
     "output_type": "display_data"
    }
   ],
   "source": [
    "plt.figure(figsize=(7,5))\n",
    "sns.scatterplot(data=df_pca, x='PC1', y='PC2', s=70, hue=kmean.labels_, palette='viridis', zorder=2, alpha=.9)\n",
    "plt.scatter(x=kmean.cluster_centers_[:,0], y=kmean.cluster_centers_[:,1], marker=\"*\", c=\"r\", s=80, label=\"centroids\")\n",
    "plt.xlabel('PC1', family='serif', size=12)\n",
    "plt.ylabel('PC2', family='serif', size=12)\n",
    "plt.xticks(family='serif')\n",
    "plt.yticks(family='serif')\n",
    "plt.grid()\n",
    "plt.tick_params(grid_color='lightgray', grid_linestyle='--', zorder=1)\n",
    "plt.legend(title='Labels', fancybox=True, shadow=True)\n",
    "plt.title('K-Means Clustering Results', family='serif', size=15)\n",
    "plt.show()"
   ]
  },
  {
   "cell_type": "code",
   "execution_count": 34,
   "id": "a2daac42",
   "metadata": {},
   "outputs": [
    {
     "data": {
      "image/png": "[encoded data removed]",
      "text/plain": [
       "<Figure size 504x360 with 1 Axes>"
      ]
     },
     "metadata": {
      "needs_background": "light"
     },
     "output_type": "display_data"
    }
   ],
   "source": [
    "plt.figure(figsize=(7,5))\n",
    "sns.scatterplot(data=df_pca, x='PC1', y='PC3', s=70, hue=kmean.labels_, palette='viridis', zorder=2, alpha=.9)\n",
    "plt.scatter(x=kmean.cluster_centers_[:,0], y=kmean.cluster_centers_[:,1], marker=\"*\", c=\"r\", s=80, label=\"centroids\")\n",
    "plt.xlabel('PC1', family='serif', size=12)\n",
    "plt.ylabel('PC3', family='serif', size=12)\n",
    "plt.xticks(family='serif')\n",
    "plt.yticks(family='serif')\n",
    "plt.grid()\n",
    "plt.tick_params(grid_color='lightgray', grid_linestyle='--', zorder=1)\n",
    "plt.legend(title='Labels', fancybox=True, shadow=True)\n",
    "plt.title('K-Means Clustering Results', family='serif', size=15)\n",
    "plt.show()"
   ]
  },
  {
   "cell_type": "code",
   "execution_count": 61,
   "id": "8832db9a",
   "metadata": {},
   "outputs": [
    {
     "data": {
      "image/png": "[encoded data removed]",
      "text/plain": [
       "<Figure size 504x360 with 1 Axes>"
      ]
     },
     "metadata": {
      "needs_background": "light"
     },
     "output_type": "display_data"
    }
   ],
   "source": [
    "plt.figure(figsize=(7,5))\n",
    "sns.scatterplot(data=df_pca, x='PC2', y='PC3', s=70, hue=kmean.labels_, palette='viridis', zorder=2, alpha=.9)\n",
    "plt.scatter(x=kmean.cluster_centers_[:,0], y=kmean.cluster_centers_[:,1], marker=\"*\", c=\"r\", s=80, label=\"centroids\")\n",
    "plt.xlabel('PC1', family='serif', size=12)\n",
    "plt.ylabel('PC3', family='serif', size=12)\n",
    "plt.xticks(family='serif')\n",
    "plt.yticks(family='serif')\n",
    "plt.grid()\n",
    "plt.tick_params(grid_color='lightgray', grid_linestyle='--', zorder=1)\n",
    "plt.legend(title='Labels', fancybox=True, shadow=True)\n",
    "plt.title('K-Means Clustering Results', family='serif', size=15)\n",
    "plt.show()"
   ]
  },
  {
   "cell_type": "markdown",
   "id": "0c3cc1ac",
   "metadata": {},
   "source": [
    "## Conclusion"
   ]
  },
  {
   "cell_type": "markdown",
   "id": "6eaf6ef1",
   "metadata": {},
   "source": [
    "Here we have selected 2 different data sets to analyse market segmentation of electronic vehicles we have analysed the distribution of electronic vehicles in India state wise and also analysed different features in electronic vehicles. We have also formed clusters using k means algorithm on ev data set using specific features in the data set."
   ]
  },
  {
   "cell_type": "code",
   "execution_count": null,
   "id": "466df0e6",
   "metadata": {},
   "outputs": [],
   "source": []
  }
 ],
 "metadata": {
  "kernelspec": {
   "display_name": "Python 3 (ipykernel)",
   "language": "python",
   "name": "python3"
  },
  "language_info": {
   "codemirror_mode": {
    "name": "ipython",
    "version": 3
   },
   "file_extension": ".py",
   "mimetype": "text/x-python",
   "name": "python",
   "nbconvert_exporter": "python",
   "pygments_lexer": "ipython3",
   "version": "3.9.7"
  }
 },
 "nbformat": 4,
 "nbformat_minor": 5
}
